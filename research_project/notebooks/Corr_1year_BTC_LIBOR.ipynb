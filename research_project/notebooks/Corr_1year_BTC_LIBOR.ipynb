{
 "cells": [
  {
   "cell_type": "code",
   "execution_count": 137,
   "metadata": {},
   "outputs": [],
   "source": [
    "import pandas as pd\n",
    "import numpy as np\n",
    "import matplotlib.pyplot as plt"
   ]
  },
  {
   "cell_type": "code",
   "execution_count": 16,
   "metadata": {},
   "outputs": [],
   "source": [
    "path = \"C:/Users/Camer/OneDrive/desktop/College/Digital Tools/DigitalTools_project/research_project/src/data/\""
   ]
  },
  {
   "cell_type": "code",
   "execution_count": 176,
   "metadata": {},
   "outputs": [],
   "source": [
    "LIBOR = pd.read_csv(path + \"LIBOR.csv\")\n",
    "BTC = pd.read_csv(path + \"BTC-USD.csv\")\n",
    "\n",
    "# format dates\n",
    "LIBOR['Date'] = pd.to_datetime(LIBOR['Date'], format='%m/%d/%Y')\n",
    "BTC['Date'] = pd.to_datetime(BTC['Date'], format='%Y/%m/%d')\n",
    "\n",
    "LIBOR['Close'] = pd.to_numeric(LIBOR['Close'].str.replace(\"%\",\"\"))\n",
    "\n",
    "#Set dates as key\n",
    "LIBOR = LIBOR.set_index('Date',drop=True)\n",
    "BTC = BTC.set_index('Date',drop=True)"
   ]
  },
  {
   "cell_type": "markdown",
   "metadata": {},
   "source": [
    "Filter the data so the dates are matching"
   ]
  },
  {
   "cell_type": "code",
   "execution_count": 161,
   "metadata": {},
   "outputs": [],
   "source": [
    "dates = pd.merge(LIBOR['Date'],BTC['Date'])\n",
    "end = dates.iloc[0]['Date']\n",
    "start = dates.iloc[-1]['Date']\n",
    "\n",
    "BTC_flt = BTC[(BTC['Date'] >= start) & (BTC['Date'] <= end)]\n",
    "LIBOR_flt = LIBOR[(LIBOR['Date'] >= start) & (LIBOR['Date'] <= end)]"
   ]
  },
  {
   "cell_type": "code",
   "execution_count": 188,
   "metadata": {},
   "outputs": [],
   "source": [
    "data = pd.merge(BTC['Adj Close'],LIBOR['Close'],left_index=True,right_index=True)\n",
    "data.columns = ['BTC','LIBOR']"
   ]
  },
  {
   "cell_type": "code",
   "execution_count": 190,
   "metadata": {},
   "outputs": [
    {
     "data": {
      "text/html": [
       "<div>\n",
       "<style scoped>\n",
       "    .dataframe tbody tr th:only-of-type {\n",
       "        vertical-align: middle;\n",
       "    }\n",
       "\n",
       "    .dataframe tbody tr th {\n",
       "        vertical-align: top;\n",
       "    }\n",
       "\n",
       "    .dataframe thead th {\n",
       "        text-align: right;\n",
       "    }\n",
       "</style>\n",
       "<table border=\"1\" class=\"dataframe\">\n",
       "  <thead>\n",
       "    <tr style=\"text-align: right;\">\n",
       "      <th></th>\n",
       "      <th>BTC</th>\n",
       "      <th>LIBOR</th>\n",
       "    </tr>\n",
       "  </thead>\n",
       "  <tbody>\n",
       "    <tr>\n",
       "      <th>BTC</th>\n",
       "      <td>1.000000</td>\n",
       "      <td>-0.896524</td>\n",
       "    </tr>\n",
       "    <tr>\n",
       "      <th>LIBOR</th>\n",
       "      <td>-0.896524</td>\n",
       "      <td>1.000000</td>\n",
       "    </tr>\n",
       "  </tbody>\n",
       "</table>\n",
       "</div>"
      ],
      "text/plain": [
       "            BTC     LIBOR\n",
       "BTC    1.000000 -0.896524\n",
       "LIBOR -0.896524  1.000000"
      ]
     },
     "execution_count": 190,
     "metadata": {},
     "output_type": "execute_result"
    }
   ],
   "source": [
    "data.corr()"
   ]
  }
 ],
 "metadata": {
  "kernelspec": {
   "display_name": "Python 3",
   "language": "python",
   "name": "python3"
  },
  "language_info": {
   "codemirror_mode": {
    "name": "ipython",
    "version": 3
   },
   "file_extension": ".py",
   "mimetype": "text/x-python",
   "name": "python",
   "nbconvert_exporter": "python",
   "pygments_lexer": "ipython3",
   "version": "3.7.6"
  }
 },
 "nbformat": 4,
 "nbformat_minor": 4
}
